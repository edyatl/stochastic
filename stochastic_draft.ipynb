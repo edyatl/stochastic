{
 "cells": [
  {
   "cell_type": "markdown",
   "id": "convertible-belize",
   "metadata": {},
   "source": [
    "## Stochastic TradingView Indicator"
   ]
  },
  {
   "cell_type": "markdown",
   "id": "breathing-elements",
   "metadata": {},
   "source": [
    ">Developed by [@edyatl](https://github.com/edyatl) April 2023 <edyatl@yandex.ru>"
   ]
  },
  {
   "cell_type": "code",
   "execution_count": 1,
   "id": "linear-coalition",
   "metadata": {},
   "outputs": [
    {
     "data": {
      "application/javascript": [
       "\n",
       "            setTimeout(function() {\n",
       "                var nbb_cell_id = 1;\n",
       "                var nbb_unformatted_code = \"# Load Jupyter extension for auto correction coding style based on Black Lib\\n%load_ext nb_black\";\n",
       "                var nbb_formatted_code = \"# Load Jupyter extension for auto correction coding style based on Black Lib\\n%load_ext nb_black\";\n",
       "                var nbb_cells = Jupyter.notebook.get_cells();\n",
       "                for (var i = 0; i < nbb_cells.length; ++i) {\n",
       "                    if (nbb_cells[i].input_prompt_number == nbb_cell_id) {\n",
       "                        if (nbb_cells[i].get_text() == nbb_unformatted_code) {\n",
       "                             nbb_cells[i].set_text(nbb_formatted_code);\n",
       "                        }\n",
       "                        break;\n",
       "                    }\n",
       "                }\n",
       "            }, 500);\n",
       "            "
      ],
      "text/plain": [
       "<IPython.core.display.Javascript object>"
      ]
     },
     "metadata": {},
     "output_type": "display_data"
    }
   ],
   "source": [
    "# Load Jupyter extension for auto correction coding style based on Black Lib\n",
    "%load_ext nb_black"
   ]
  },
  {
   "cell_type": "markdown",
   "id": "constitutional-journey",
   "metadata": {},
   "source": [
    "### Original Indicator code\n",
    "\n",
    "```python\n",
    "//@version=5 \n",
    "indicator(title=\"Stochastic\", shorttitle=\"Stoch\", format=format.price, precision=2, timeframe=\"\", timeframe_gaps=true) \n",
    "\n",
    "periodK = input.int(14, title=\"%K Length\", minval=1) \n",
    "smoothK = input.int(1, title=\"%K Smoothing\", minval=1) \n",
    "periodD = input.int(3, title=\"%D Smoothing\", minval=1) \n",
    "\n",
    "k = ta.sma(ta.stoch(close, high, low, periodK), smoothK) \n",
    "d = ta.sma(k, periodD) \n",
    "\n",
    "plot(k, title=\"%K\", color=#2962FF) \n",
    "plot(d, title=\"%D\", color=#FF6D00) \n",
    "\n",
    "h0 = hline(80, \"Upper Band\", color=#787B86) \n",
    "\n",
    "hline(50, \"Middle Band\", color=color.new(#787B86, 50)) \n",
    "\n",
    "h1 = hline(20, \"Lower Band\", color=#787B86) \n",
    "\n",
    "fill(h0, h1, color=color.rgb(33, 150, 243, 90), title=\"Background\")\n",
    "```"
   ]
  },
  {
   "cell_type": "code",
   "execution_count": 2,
   "id": "underlying-settle",
   "metadata": {},
   "outputs": [
    {
     "data": {
      "application/javascript": [
       "\n",
       "            setTimeout(function() {\n",
       "                var nbb_cell_id = 2;\n",
       "                var nbb_unformatted_code = \"# Standard imports\\nimport pandas as pd\\nimport numpy as np\\n\\n# import matplotlib.pyplot as plt\\n# import seaborn as sns\\nimport talib as tl\\n\\nimport os\\nfrom os import environ as env\\nfrom dotenv import load_dotenv\\nfrom binance import Client, ThreadedWebsocketManager, ThreadedDepthCacheManager\";\n",
       "                var nbb_formatted_code = \"# Standard imports\\nimport pandas as pd\\nimport numpy as np\\n\\n# import matplotlib.pyplot as plt\\n# import seaborn as sns\\nimport talib as tl\\n\\nimport os\\nfrom os import environ as env\\nfrom dotenv import load_dotenv\\nfrom binance import Client, ThreadedWebsocketManager, ThreadedDepthCacheManager\";\n",
       "                var nbb_cells = Jupyter.notebook.get_cells();\n",
       "                for (var i = 0; i < nbb_cells.length; ++i) {\n",
       "                    if (nbb_cells[i].input_prompt_number == nbb_cell_id) {\n",
       "                        if (nbb_cells[i].get_text() == nbb_unformatted_code) {\n",
       "                             nbb_cells[i].set_text(nbb_formatted_code);\n",
       "                        }\n",
       "                        break;\n",
       "                    }\n",
       "                }\n",
       "            }, 500);\n",
       "            "
      ],
      "text/plain": [
       "<IPython.core.display.Javascript object>"
      ]
     },
     "metadata": {},
     "output_type": "display_data"
    }
   ],
   "source": [
    "# Standard imports\n",
    "import pandas as pd\n",
    "import numpy as np\n",
    "\n",
    "# import matplotlib.pyplot as plt\n",
    "# import seaborn as sns\n",
    "import talib as tl\n",
    "\n",
    "import os\n",
    "from os import environ as env\n",
    "from dotenv import load_dotenv\n",
    "from binance import Client, ThreadedWebsocketManager, ThreadedDepthCacheManager"
   ]
  },
  {
   "cell_type": "code",
   "execution_count": 3,
   "id": "composed-yield",
   "metadata": {},
   "outputs": [
    {
     "data": {
      "application/javascript": [
       "\n",
       "            setTimeout(function() {\n",
       "                var nbb_cell_id = 3;\n",
       "                var nbb_unformatted_code = \"# Install a pip package in the current Jupyter kernel\\n# import sys\\n\\n# !{sys.executable} -m pip install -U python-dotenv\";\n",
       "                var nbb_formatted_code = \"# Install a pip package in the current Jupyter kernel\\n# import sys\\n\\n# !{sys.executable} -m pip install -U python-dotenv\";\n",
       "                var nbb_cells = Jupyter.notebook.get_cells();\n",
       "                for (var i = 0; i < nbb_cells.length; ++i) {\n",
       "                    if (nbb_cells[i].input_prompt_number == nbb_cell_id) {\n",
       "                        if (nbb_cells[i].get_text() == nbb_unformatted_code) {\n",
       "                             nbb_cells[i].set_text(nbb_formatted_code);\n",
       "                        }\n",
       "                        break;\n",
       "                    }\n",
       "                }\n",
       "            }, 500);\n",
       "            "
      ],
      "text/plain": [
       "<IPython.core.display.Javascript object>"
      ]
     },
     "metadata": {},
     "output_type": "display_data"
    }
   ],
   "source": [
    "# Install a pip package in the current Jupyter kernel\n",
    "# import sys\n",
    "\n",
    "# !{sys.executable} -m pip install -U python-dotenv"
   ]
  },
  {
   "cell_type": "code",
   "execution_count": 4,
   "id": "touched-carpet",
   "metadata": {},
   "outputs": [
    {
     "data": {
      "application/javascript": [
       "\n",
       "            setTimeout(function() {\n",
       "                var nbb_cell_id = 4;\n",
       "                var nbb_unformatted_code = \"project_dotenv = os.path.join(os.path.abspath(\\\"\\\"), \\\".env\\\")\\nif os.path.exists(project_dotenv):\\n    load_dotenv(project_dotenv)\";\n",
       "                var nbb_formatted_code = \"project_dotenv = os.path.join(os.path.abspath(\\\"\\\"), \\\".env\\\")\\nif os.path.exists(project_dotenv):\\n    load_dotenv(project_dotenv)\";\n",
       "                var nbb_cells = Jupyter.notebook.get_cells();\n",
       "                for (var i = 0; i < nbb_cells.length; ++i) {\n",
       "                    if (nbb_cells[i].input_prompt_number == nbb_cell_id) {\n",
       "                        if (nbb_cells[i].get_text() == nbb_unformatted_code) {\n",
       "                             nbb_cells[i].set_text(nbb_formatted_code);\n",
       "                        }\n",
       "                        break;\n",
       "                    }\n",
       "                }\n",
       "            }, 500);\n",
       "            "
      ],
      "text/plain": [
       "<IPython.core.display.Javascript object>"
      ]
     },
     "metadata": {},
     "output_type": "display_data"
    }
   ],
   "source": [
    "project_dotenv = os.path.join(os.path.abspath(\"\"), \".env\")\n",
    "if os.path.exists(project_dotenv):\n",
    "    load_dotenv(project_dotenv)"
   ]
  },
  {
   "cell_type": "code",
   "execution_count": 5,
   "id": "aerial-jerusalem",
   "metadata": {},
   "outputs": [
    {
     "data": {
      "application/javascript": [
       "\n",
       "            setTimeout(function() {\n",
       "                var nbb_cell_id = 5;\n",
       "                var nbb_unformatted_code = \"api_key, api_secret = env.get(\\\"ENV_API_KEY\\\"), env.get(\\\"ENV_SECRET_KEY\\\")\\nclient = Client(api_key, api_secret)\";\n",
       "                var nbb_formatted_code = \"api_key, api_secret = env.get(\\\"ENV_API_KEY\\\"), env.get(\\\"ENV_SECRET_KEY\\\")\\nclient = Client(api_key, api_secret)\";\n",
       "                var nbb_cells = Jupyter.notebook.get_cells();\n",
       "                for (var i = 0; i < nbb_cells.length; ++i) {\n",
       "                    if (nbb_cells[i].input_prompt_number == nbb_cell_id) {\n",
       "                        if (nbb_cells[i].get_text() == nbb_unformatted_code) {\n",
       "                             nbb_cells[i].set_text(nbb_formatted_code);\n",
       "                        }\n",
       "                        break;\n",
       "                    }\n",
       "                }\n",
       "            }, 500);\n",
       "            "
      ],
      "text/plain": [
       "<IPython.core.display.Javascript object>"
      ]
     },
     "metadata": {},
     "output_type": "display_data"
    }
   ],
   "source": [
    "api_key, api_secret = env.get(\"ENV_API_KEY\"), env.get(\"ENV_SECRET_KEY\")\n",
    "client = Client(api_key, api_secret)"
   ]
  },
  {
   "cell_type": "code",
   "execution_count": 6,
   "id": "greatest-census",
   "metadata": {},
   "outputs": [
    {
     "data": {
      "application/javascript": [
       "\n",
       "            setTimeout(function() {\n",
       "                var nbb_cell_id = 6;\n",
       "                var nbb_unformatted_code = \"klines = client.get_klines(symbol=\\\"BTCUSDT\\\", interval=Client.KLINE_INTERVAL_15MINUTE)\\n\\nshort_col_names = [\\n    \\\"open_time\\\",\\n    \\\"open\\\",\\n    \\\"high\\\",\\n    \\\"low\\\",\\n    \\\"close\\\",\\n    \\\"volume\\\",\\n    \\\"close_time\\\",\\n    \\\"qav\\\",\\n    \\\"num_trades\\\",\\n    \\\"taker_base_vol\\\",\\n    \\\"taker_quote_vol\\\",\\n    \\\"ignore\\\",\\n]\";\n",
       "                var nbb_formatted_code = \"klines = client.get_klines(symbol=\\\"BTCUSDT\\\", interval=Client.KLINE_INTERVAL_15MINUTE)\\n\\nshort_col_names = [\\n    \\\"open_time\\\",\\n    \\\"open\\\",\\n    \\\"high\\\",\\n    \\\"low\\\",\\n    \\\"close\\\",\\n    \\\"volume\\\",\\n    \\\"close_time\\\",\\n    \\\"qav\\\",\\n    \\\"num_trades\\\",\\n    \\\"taker_base_vol\\\",\\n    \\\"taker_quote_vol\\\",\\n    \\\"ignore\\\",\\n]\";\n",
       "                var nbb_cells = Jupyter.notebook.get_cells();\n",
       "                for (var i = 0; i < nbb_cells.length; ++i) {\n",
       "                    if (nbb_cells[i].input_prompt_number == nbb_cell_id) {\n",
       "                        if (nbb_cells[i].get_text() == nbb_unformatted_code) {\n",
       "                             nbb_cells[i].set_text(nbb_formatted_code);\n",
       "                        }\n",
       "                        break;\n",
       "                    }\n",
       "                }\n",
       "            }, 500);\n",
       "            "
      ],
      "text/plain": [
       "<IPython.core.display.Javascript object>"
      ]
     },
     "metadata": {},
     "output_type": "display_data"
    }
   ],
   "source": [
    "klines = client.get_klines(symbol=\"BTCUSDT\", interval=Client.KLINE_INTERVAL_15MINUTE)\n",
    "\n",
    "short_col_names = [\n",
    "    \"open_time\",\n",
    "    \"open\",\n",
    "    \"high\",\n",
    "    \"low\",\n",
    "    \"close\",\n",
    "    \"volume\",\n",
    "    \"close_time\",\n",
    "    \"qav\",\n",
    "    \"num_trades\",\n",
    "    \"taker_base_vol\",\n",
    "    \"taker_quote_vol\",\n",
    "    \"ignore\",\n",
    "]"
   ]
  },
  {
   "cell_type": "code",
   "execution_count": 7,
   "id": "liberal-candidate",
   "metadata": {},
   "outputs": [
    {
     "data": {
      "text/html": [
       "<div>\n",
       "<style scoped>\n",
       "    .dataframe tbody tr th:only-of-type {\n",
       "        vertical-align: middle;\n",
       "    }\n",
       "\n",
       "    .dataframe tbody tr th {\n",
       "        vertical-align: top;\n",
       "    }\n",
       "\n",
       "    .dataframe thead th {\n",
       "        text-align: right;\n",
       "    }\n",
       "</style>\n",
       "<table border=\"1\" class=\"dataframe\">\n",
       "  <thead>\n",
       "    <tr style=\"text-align: right;\">\n",
       "      <th></th>\n",
       "      <th>open_time</th>\n",
       "      <th>open</th>\n",
       "      <th>high</th>\n",
       "      <th>low</th>\n",
       "      <th>close</th>\n",
       "      <th>volume</th>\n",
       "      <th>close_time</th>\n",
       "      <th>qav</th>\n",
       "      <th>num_trades</th>\n",
       "      <th>taker_base_vol</th>\n",
       "      <th>taker_quote_vol</th>\n",
       "      <th>ignore</th>\n",
       "    </tr>\n",
       "  </thead>\n",
       "  <tbody>\n",
       "    <tr>\n",
       "      <th>495</th>\n",
       "      <td>2023-04-17 09:15:00</td>\n",
       "      <td>29922.50000000</td>\n",
       "      <td>29922.50000000</td>\n",
       "      <td>29882.07000000</td>\n",
       "      <td>29904.02000000</td>\n",
       "      <td>281.55241000</td>\n",
       "      <td>2023-04-17 09:29:59.999</td>\n",
       "      <td>8418835.75413020</td>\n",
       "      <td>8415</td>\n",
       "      <td>116.63962000</td>\n",
       "      <td>3487632.13019110</td>\n",
       "      <td>0</td>\n",
       "    </tr>\n",
       "    <tr>\n",
       "      <th>496</th>\n",
       "      <td>2023-04-17 09:30:00</td>\n",
       "      <td>29904.01000000</td>\n",
       "      <td>29916.66000000</td>\n",
       "      <td>29867.88000000</td>\n",
       "      <td>29877.97000000</td>\n",
       "      <td>289.00580000</td>\n",
       "      <td>2023-04-17 09:44:59.999</td>\n",
       "      <td>8637855.73426860</td>\n",
       "      <td>7843</td>\n",
       "      <td>153.07261000</td>\n",
       "      <td>4575170.34452090</td>\n",
       "      <td>0</td>\n",
       "    </tr>\n",
       "    <tr>\n",
       "      <th>497</th>\n",
       "      <td>2023-04-17 09:45:00</td>\n",
       "      <td>29877.98000000</td>\n",
       "      <td>29893.71000000</td>\n",
       "      <td>29845.95000000</td>\n",
       "      <td>29876.97000000</td>\n",
       "      <td>370.47224000</td>\n",
       "      <td>2023-04-17 09:59:59.999</td>\n",
       "      <td>11066820.79818020</td>\n",
       "      <td>9019</td>\n",
       "      <td>165.02424000</td>\n",
       "      <td>4929723.85829200</td>\n",
       "      <td>0</td>\n",
       "    </tr>\n",
       "    <tr>\n",
       "      <th>498</th>\n",
       "      <td>2023-04-17 10:00:00</td>\n",
       "      <td>29876.96000000</td>\n",
       "      <td>29888.56000000</td>\n",
       "      <td>29846.21000000</td>\n",
       "      <td>29886.15000000</td>\n",
       "      <td>336.67780000</td>\n",
       "      <td>2023-04-17 10:14:59.999</td>\n",
       "      <td>10055530.47644180</td>\n",
       "      <td>9003</td>\n",
       "      <td>165.40429000</td>\n",
       "      <td>4940274.14322720</td>\n",
       "      <td>0</td>\n",
       "    </tr>\n",
       "    <tr>\n",
       "      <th>499</th>\n",
       "      <td>2023-04-17 10:15:00</td>\n",
       "      <td>29886.15000000</td>\n",
       "      <td>29886.25000000</td>\n",
       "      <td>29826.19000000</td>\n",
       "      <td>29834.86000000</td>\n",
       "      <td>290.15318000</td>\n",
       "      <td>2023-04-17 10:29:59.999</td>\n",
       "      <td>8660968.01593800</td>\n",
       "      <td>5792</td>\n",
       "      <td>112.90947000</td>\n",
       "      <td>3370029.96236300</td>\n",
       "      <td>0</td>\n",
       "    </tr>\n",
       "  </tbody>\n",
       "</table>\n",
       "</div>"
      ],
      "text/plain": [
       "              open_time            open            high             low  \\\n",
       "495 2023-04-17 09:15:00  29922.50000000  29922.50000000  29882.07000000   \n",
       "496 2023-04-17 09:30:00  29904.01000000  29916.66000000  29867.88000000   \n",
       "497 2023-04-17 09:45:00  29877.98000000  29893.71000000  29845.95000000   \n",
       "498 2023-04-17 10:00:00  29876.96000000  29888.56000000  29846.21000000   \n",
       "499 2023-04-17 10:15:00  29886.15000000  29886.25000000  29826.19000000   \n",
       "\n",
       "              close        volume              close_time                qav  \\\n",
       "495  29904.02000000  281.55241000 2023-04-17 09:29:59.999   8418835.75413020   \n",
       "496  29877.97000000  289.00580000 2023-04-17 09:44:59.999   8637855.73426860   \n",
       "497  29876.97000000  370.47224000 2023-04-17 09:59:59.999  11066820.79818020   \n",
       "498  29886.15000000  336.67780000 2023-04-17 10:14:59.999  10055530.47644180   \n",
       "499  29834.86000000  290.15318000 2023-04-17 10:29:59.999   8660968.01593800   \n",
       "\n",
       "     num_trades taker_base_vol   taker_quote_vol ignore  \n",
       "495        8415   116.63962000  3487632.13019110      0  \n",
       "496        7843   153.07261000  4575170.34452090      0  \n",
       "497        9019   165.02424000  4929723.85829200      0  \n",
       "498        9003   165.40429000  4940274.14322720      0  \n",
       "499        5792   112.90947000  3370029.96236300      0  "
      ]
     },
     "execution_count": 7,
     "metadata": {},
     "output_type": "execute_result"
    },
    {
     "data": {
      "application/javascript": [
       "\n",
       "            setTimeout(function() {\n",
       "                var nbb_cell_id = 7;\n",
       "                var nbb_unformatted_code = \"data = pd.DataFrame(klines, columns=short_col_names)\\ndata[\\\"open_time\\\"] = pd.to_datetime(data[\\\"open_time\\\"], unit=\\\"ms\\\")\\ndata[\\\"close_time\\\"] = pd.to_datetime(data[\\\"close_time\\\"], unit=\\\"ms\\\")\\ndata.tail(5)\";\n",
       "                var nbb_formatted_code = \"data = pd.DataFrame(klines, columns=short_col_names)\\ndata[\\\"open_time\\\"] = pd.to_datetime(data[\\\"open_time\\\"], unit=\\\"ms\\\")\\ndata[\\\"close_time\\\"] = pd.to_datetime(data[\\\"close_time\\\"], unit=\\\"ms\\\")\\ndata.tail(5)\";\n",
       "                var nbb_cells = Jupyter.notebook.get_cells();\n",
       "                for (var i = 0; i < nbb_cells.length; ++i) {\n",
       "                    if (nbb_cells[i].input_prompt_number == nbb_cell_id) {\n",
       "                        if (nbb_cells[i].get_text() == nbb_unformatted_code) {\n",
       "                             nbb_cells[i].set_text(nbb_formatted_code);\n",
       "                        }\n",
       "                        break;\n",
       "                    }\n",
       "                }\n",
       "            }, 500);\n",
       "            "
      ],
      "text/plain": [
       "<IPython.core.display.Javascript object>"
      ]
     },
     "metadata": {},
     "output_type": "display_data"
    }
   ],
   "source": [
    "data = pd.DataFrame(klines, columns=short_col_names)\n",
    "data[\"open_time\"] = pd.to_datetime(data[\"open_time\"], unit=\"ms\")\n",
    "data[\"close_time\"] = pd.to_datetime(data[\"close_time\"], unit=\"ms\")\n",
    "data.tail(5)"
   ]
  },
  {
   "cell_type": "markdown",
   "id": "permanent-vietnam",
   "metadata": {},
   "source": [
    "### Inputs"
   ]
  },
  {
   "cell_type": "code",
   "execution_count": 27,
   "id": "previous-kuwait",
   "metadata": {},
   "outputs": [
    {
     "data": {
      "application/javascript": [
       "\n",
       "            setTimeout(function() {\n",
       "                var nbb_cell_id = 27;\n",
       "                var nbb_unformatted_code = \"periodK: int = 14  # input.int(14, title=\\\"%K Length\\\", minval=1)\\nsmoothK: int = 2  # input.int(3, title=\\\"%K Smoothing\\\", minval=1)\\nperiodD: int = 3  # input.int(3, title=\\\"%D Smoothing\\\", minval=1)\";\n",
       "                var nbb_formatted_code = \"periodK: int = 14  # input.int(14, title=\\\"%K Length\\\", minval=1)\\nsmoothK: int = 2  # input.int(3, title=\\\"%K Smoothing\\\", minval=1)\\nperiodD: int = 3  # input.int(3, title=\\\"%D Smoothing\\\", minval=1)\";\n",
       "                var nbb_cells = Jupyter.notebook.get_cells();\n",
       "                for (var i = 0; i < nbb_cells.length; ++i) {\n",
       "                    if (nbb_cells[i].input_prompt_number == nbb_cell_id) {\n",
       "                        if (nbb_cells[i].get_text() == nbb_unformatted_code) {\n",
       "                             nbb_cells[i].set_text(nbb_formatted_code);\n",
       "                        }\n",
       "                        break;\n",
       "                    }\n",
       "                }\n",
       "            }, 500);\n",
       "            "
      ],
      "text/plain": [
       "<IPython.core.display.Javascript object>"
      ]
     },
     "metadata": {},
     "output_type": "display_data"
    }
   ],
   "source": [
    "periodK: int = 14  # input.int(14, title=\"%K Length\", minval=1)\n",
    "smoothK: int = 3  # input.int(3, title=\"%K Smoothing\", minval=1)\n",
    "periodD: int = 3  # input.int(3, title=\"%D Smoothing\", minval=1)"
   ]
  },
  {
   "cell_type": "code",
   "execution_count": 28,
   "id": "certain-sherman",
   "metadata": {},
   "outputs": [
    {
     "data": {
      "application/javascript": [
       "\n",
       "            setTimeout(function() {\n",
       "                var nbb_cell_id = 28;\n",
       "                var nbb_unformatted_code = \"k, d = tl.STOCH(\\n    data[\\\"high\\\"],\\n    data[\\\"low\\\"],\\n    data[\\\"close\\\"],\\n    periodK,\\n    smoothK,\\n    0,\\n    periodD,\\n    0,\\n)\";\n",
       "                var nbb_formatted_code = \"k, d = tl.STOCH(\\n    data[\\\"high\\\"],\\n    data[\\\"low\\\"],\\n    data[\\\"close\\\"],\\n    periodK,\\n    smoothK,\\n    0,\\n    periodD,\\n    0,\\n)\";\n",
       "                var nbb_cells = Jupyter.notebook.get_cells();\n",
       "                for (var i = 0; i < nbb_cells.length; ++i) {\n",
       "                    if (nbb_cells[i].input_prompt_number == nbb_cell_id) {\n",
       "                        if (nbb_cells[i].get_text() == nbb_unformatted_code) {\n",
       "                             nbb_cells[i].set_text(nbb_formatted_code);\n",
       "                        }\n",
       "                        break;\n",
       "                    }\n",
       "                }\n",
       "            }, 500);\n",
       "            "
      ],
      "text/plain": [
       "<IPython.core.display.Javascript object>"
      ]
     },
     "metadata": {},
     "output_type": "display_data"
    }
   ],
   "source": [
    "k, d = tl.STOCH(\n",
    "    data[\"high\"],\n",
    "    data[\"low\"],\n",
    "    data[\"close\"],\n",
    "    periodK,\n",
    "    smoothK,\n",
    "    0,\n",
    "    periodD,\n",
    "    0,\n",
    ")"
   ]
  },
  {
   "cell_type": "code",
   "execution_count": 31,
   "id": "affected-terrorist",
   "metadata": {},
   "outputs": [
    {
     "data": {
      "text/html": [
       "<div>\n",
       "<style scoped>\n",
       "    .dataframe tbody tr th:only-of-type {\n",
       "        vertical-align: middle;\n",
       "    }\n",
       "\n",
       "    .dataframe tbody tr th {\n",
       "        vertical-align: top;\n",
       "    }\n",
       "\n",
       "    .dataframe thead th {\n",
       "        text-align: right;\n",
       "    }\n",
       "</style>\n",
       "<table border=\"1\" class=\"dataframe\">\n",
       "  <thead>\n",
       "    <tr style=\"text-align: right;\">\n",
       "      <th></th>\n",
       "      <th>open_time</th>\n",
       "      <th>%K</th>\n",
       "      <th>%D</th>\n",
       "    </tr>\n",
       "  </thead>\n",
       "  <tbody>\n",
       "    <tr>\n",
       "      <th>480</th>\n",
       "      <td>2023-04-17 05:30:00</td>\n",
       "      <td>29.828359</td>\n",
       "      <td>38.369600</td>\n",
       "    </tr>\n",
       "    <tr>\n",
       "      <th>481</th>\n",
       "      <td>2023-04-17 05:45:00</td>\n",
       "      <td>36.314666</td>\n",
       "      <td>35.444910</td>\n",
       "    </tr>\n",
       "    <tr>\n",
       "      <th>482</th>\n",
       "      <td>2023-04-17 06:00:00</td>\n",
       "      <td>50.079838</td>\n",
       "      <td>38.740954</td>\n",
       "    </tr>\n",
       "    <tr>\n",
       "      <th>483</th>\n",
       "      <td>2023-04-17 06:15:00</td>\n",
       "      <td>44.144708</td>\n",
       "      <td>43.513071</td>\n",
       "    </tr>\n",
       "    <tr>\n",
       "      <th>484</th>\n",
       "      <td>2023-04-17 06:30:00</td>\n",
       "      <td>18.427410</td>\n",
       "      <td>37.550652</td>\n",
       "    </tr>\n",
       "    <tr>\n",
       "      <th>485</th>\n",
       "      <td>2023-04-17 06:45:00</td>\n",
       "      <td>6.828904</td>\n",
       "      <td>23.133674</td>\n",
       "    </tr>\n",
       "    <tr>\n",
       "      <th>486</th>\n",
       "      <td>2023-04-17 07:00:00</td>\n",
       "      <td>24.956213</td>\n",
       "      <td>16.737509</td>\n",
       "    </tr>\n",
       "    <tr>\n",
       "      <th>487</th>\n",
       "      <td>2023-04-17 07:15:00</td>\n",
       "      <td>33.008386</td>\n",
       "      <td>21.597834</td>\n",
       "    </tr>\n",
       "    <tr>\n",
       "      <th>488</th>\n",
       "      <td>2023-04-17 07:30:00</td>\n",
       "      <td>19.150943</td>\n",
       "      <td>25.705181</td>\n",
       "    </tr>\n",
       "    <tr>\n",
       "      <th>489</th>\n",
       "      <td>2023-04-17 07:45:00</td>\n",
       "      <td>7.339332</td>\n",
       "      <td>19.832887</td>\n",
       "    </tr>\n",
       "    <tr>\n",
       "      <th>490</th>\n",
       "      <td>2023-04-17 08:00:00</td>\n",
       "      <td>8.879367</td>\n",
       "      <td>11.789881</td>\n",
       "    </tr>\n",
       "    <tr>\n",
       "      <th>491</th>\n",
       "      <td>2023-04-17 08:15:00</td>\n",
       "      <td>24.537665</td>\n",
       "      <td>13.585454</td>\n",
       "    </tr>\n",
       "    <tr>\n",
       "      <th>492</th>\n",
       "      <td>2023-04-17 08:30:00</td>\n",
       "      <td>44.802963</td>\n",
       "      <td>26.073331</td>\n",
       "    </tr>\n",
       "    <tr>\n",
       "      <th>493</th>\n",
       "      <td>2023-04-17 08:45:00</td>\n",
       "      <td>56.145961</td>\n",
       "      <td>41.828863</td>\n",
       "    </tr>\n",
       "    <tr>\n",
       "      <th>494</th>\n",
       "      <td>2023-04-17 09:00:00</td>\n",
       "      <td>58.670634</td>\n",
       "      <td>53.206519</td>\n",
       "    </tr>\n",
       "    <tr>\n",
       "      <th>495</th>\n",
       "      <td>2023-04-17 09:15:00</td>\n",
       "      <td>55.208282</td>\n",
       "      <td>56.674959</td>\n",
       "    </tr>\n",
       "    <tr>\n",
       "      <th>496</th>\n",
       "      <td>2023-04-17 09:30:00</td>\n",
       "      <td>45.057973</td>\n",
       "      <td>52.978963</td>\n",
       "    </tr>\n",
       "    <tr>\n",
       "      <th>497</th>\n",
       "      <td>2023-04-17 09:45:00</td>\n",
       "      <td>44.506216</td>\n",
       "      <td>48.257490</td>\n",
       "    </tr>\n",
       "    <tr>\n",
       "      <th>498</th>\n",
       "      <td>2023-04-17 10:00:00</td>\n",
       "      <td>55.410942</td>\n",
       "      <td>48.325044</td>\n",
       "    </tr>\n",
       "    <tr>\n",
       "      <th>499</th>\n",
       "      <td>2023-04-17 10:15:00</td>\n",
       "      <td>42.809353</td>\n",
       "      <td>47.575504</td>\n",
       "    </tr>\n",
       "  </tbody>\n",
       "</table>\n",
       "</div>"
      ],
      "text/plain": [
       "              open_time         %K         %D\n",
       "480 2023-04-17 05:30:00  29.828359  38.369600\n",
       "481 2023-04-17 05:45:00  36.314666  35.444910\n",
       "482 2023-04-17 06:00:00  50.079838  38.740954\n",
       "483 2023-04-17 06:15:00  44.144708  43.513071\n",
       "484 2023-04-17 06:30:00  18.427410  37.550652\n",
       "485 2023-04-17 06:45:00   6.828904  23.133674\n",
       "486 2023-04-17 07:00:00  24.956213  16.737509\n",
       "487 2023-04-17 07:15:00  33.008386  21.597834\n",
       "488 2023-04-17 07:30:00  19.150943  25.705181\n",
       "489 2023-04-17 07:45:00   7.339332  19.832887\n",
       "490 2023-04-17 08:00:00   8.879367  11.789881\n",
       "491 2023-04-17 08:15:00  24.537665  13.585454\n",
       "492 2023-04-17 08:30:00  44.802963  26.073331\n",
       "493 2023-04-17 08:45:00  56.145961  41.828863\n",
       "494 2023-04-17 09:00:00  58.670634  53.206519\n",
       "495 2023-04-17 09:15:00  55.208282  56.674959\n",
       "496 2023-04-17 09:30:00  45.057973  52.978963\n",
       "497 2023-04-17 09:45:00  44.506216  48.257490\n",
       "498 2023-04-17 10:00:00  55.410942  48.325044\n",
       "499 2023-04-17 10:15:00  42.809353  47.575504"
      ]
     },
     "execution_count": 31,
     "metadata": {},
     "output_type": "execute_result"
    },
    {
     "data": {
      "application/javascript": [
       "\n",
       "            setTimeout(function() {\n",
       "                var nbb_cell_id = 31;\n",
       "                var nbb_unformatted_code = \"res = pd.DataFrame(\\n    {\\n        \\\"open_time\\\": data[\\\"open_time\\\"],\\n        \\\"%K\\\": k,\\n        \\\"%D\\\": d,\\n    }\\n)\\nres.tail(20)\";\n",
       "                var nbb_formatted_code = \"res = pd.DataFrame(\\n    {\\n        \\\"open_time\\\": data[\\\"open_time\\\"],\\n        \\\"%K\\\": k,\\n        \\\"%D\\\": d,\\n    }\\n)\\nres.tail(20)\";\n",
       "                var nbb_cells = Jupyter.notebook.get_cells();\n",
       "                for (var i = 0; i < nbb_cells.length; ++i) {\n",
       "                    if (nbb_cells[i].input_prompt_number == nbb_cell_id) {\n",
       "                        if (nbb_cells[i].get_text() == nbb_unformatted_code) {\n",
       "                             nbb_cells[i].set_text(nbb_formatted_code);\n",
       "                        }\n",
       "                        break;\n",
       "                    }\n",
       "                }\n",
       "            }, 500);\n",
       "            "
      ],
      "text/plain": [
       "<IPython.core.display.Javascript object>"
      ]
     },
     "metadata": {},
     "output_type": "display_data"
    }
   ],
   "source": [
    "res = pd.DataFrame(\n",
    "    {\n",
    "        \"open_time\": data[\"open_time\"],\n",
    "        \"%K\": k,\n",
    "        \"%D\": d,\n",
    "    }\n",
    ")\n",
    "res.tail(20)"
   ]
  },
  {
   "cell_type": "code",
   "execution_count": null,
   "id": "textile-fault",
   "metadata": {},
   "outputs": [],
   "source": []
  }
 ],
 "metadata": {
  "kernelspec": {
   "display_name": "venv",
   "language": "python",
   "name": "venv"
  },
  "language_info": {
   "codemirror_mode": {
    "name": "ipython",
    "version": 3
   },
   "file_extension": ".py",
   "mimetype": "text/x-python",
   "name": "python",
   "nbconvert_exporter": "python",
   "pygments_lexer": "ipython3",
   "version": "3.6.13"
  }
 },
 "nbformat": 4,
 "nbformat_minor": 5
}
