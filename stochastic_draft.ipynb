{
 "cells": [
  {
   "cell_type": "markdown",
   "id": "simple-wednesday",
   "metadata": {},
   "source": [
    "## Stochastic TradingView Indicator"
   ]
  },
  {
   "cell_type": "markdown",
   "id": "former-locking",
   "metadata": {},
   "source": [
    ">Developed by [@edyatl](https://github.com/edyatl) April 2023 <edyatl@yandex.ru>"
   ]
  },
  {
   "cell_type": "code",
   "execution_count": 1,
   "id": "productive-richardson",
   "metadata": {},
   "outputs": [
    {
     "data": {
      "application/javascript": [
       "\n",
       "            setTimeout(function() {\n",
       "                var nbb_cell_id = 1;\n",
       "                var nbb_unformatted_code = \"# Load Jupyter extension for auto correction coding style based on Black Lib\\n%load_ext nb_black\";\n",
       "                var nbb_formatted_code = \"# Load Jupyter extension for auto correction coding style based on Black Lib\\n%load_ext nb_black\";\n",
       "                var nbb_cells = Jupyter.notebook.get_cells();\n",
       "                for (var i = 0; i < nbb_cells.length; ++i) {\n",
       "                    if (nbb_cells[i].input_prompt_number == nbb_cell_id) {\n",
       "                        if (nbb_cells[i].get_text() == nbb_unformatted_code) {\n",
       "                             nbb_cells[i].set_text(nbb_formatted_code);\n",
       "                        }\n",
       "                        break;\n",
       "                    }\n",
       "                }\n",
       "            }, 500);\n",
       "            "
      ],
      "text/plain": [
       "<IPython.core.display.Javascript object>"
      ]
     },
     "metadata": {},
     "output_type": "display_data"
    }
   ],
   "source": [
    "# Load Jupyter extension for auto correction coding style based on Black Lib\n",
    "%load_ext nb_black"
   ]
  },
  {
   "cell_type": "markdown",
   "id": "southwest-seven",
   "metadata": {},
   "source": [
    "### Original Indicator code\n",
    "\n",
    "```python\n",
    "//@version=5 \n",
    "indicator(title=\"Stochastic\", shorttitle=\"Stoch\", format=format.price, precision=2, timeframe=\"\", timeframe_gaps=true) \n",
    "\n",
    "periodK = input.int(14, title=\"%K Length\", minval=1) \n",
    "smoothK = input.int(1, title=\"%K Smoothing\", minval=1) \n",
    "periodD = input.int(3, title=\"%D Smoothing\", minval=1) \n",
    "\n",
    "k = ta.sma(ta.stoch(close, high, low, periodK), smoothK) \n",
    "d = ta.sma(k, periodD) \n",
    "\n",
    "plot(k, title=\"%K\", color=#2962FF) \n",
    "plot(d, title=\"%D\", color=#FF6D00) \n",
    "\n",
    "h0 = hline(80, \"Upper Band\", color=#787B86) \n",
    "\n",
    "hline(50, \"Middle Band\", color=color.new(#787B86, 50)) \n",
    "\n",
    "h1 = hline(20, \"Lower Band\", color=#787B86) \n",
    "\n",
    "fill(h0, h1, color=color.rgb(33, 150, 243, 90), title=\"Background\")\n",
    "```"
   ]
  },
  {
   "cell_type": "code",
   "execution_count": 2,
   "id": "packed-music",
   "metadata": {},
   "outputs": [
    {
     "data": {
      "application/javascript": [
       "\n",
       "            setTimeout(function() {\n",
       "                var nbb_cell_id = 2;\n",
       "                var nbb_unformatted_code = \"# Standard imports\\nimport pandas as pd\\nimport numpy as np\\n\\n# import matplotlib.pyplot as plt\\n# import seaborn as sns\\nimport talib as tl\\n\\nimport os\\nfrom os import environ as env\\nfrom dotenv import load_dotenv\\nfrom binance import Client, ThreadedWebsocketManager, ThreadedDepthCacheManager\";\n",
       "                var nbb_formatted_code = \"# Standard imports\\nimport pandas as pd\\nimport numpy as np\\n\\n# import matplotlib.pyplot as plt\\n# import seaborn as sns\\nimport talib as tl\\n\\nimport os\\nfrom os import environ as env\\nfrom dotenv import load_dotenv\\nfrom binance import Client, ThreadedWebsocketManager, ThreadedDepthCacheManager\";\n",
       "                var nbb_cells = Jupyter.notebook.get_cells();\n",
       "                for (var i = 0; i < nbb_cells.length; ++i) {\n",
       "                    if (nbb_cells[i].input_prompt_number == nbb_cell_id) {\n",
       "                        if (nbb_cells[i].get_text() == nbb_unformatted_code) {\n",
       "                             nbb_cells[i].set_text(nbb_formatted_code);\n",
       "                        }\n",
       "                        break;\n",
       "                    }\n",
       "                }\n",
       "            }, 500);\n",
       "            "
      ],
      "text/plain": [
       "<IPython.core.display.Javascript object>"
      ]
     },
     "metadata": {},
     "output_type": "display_data"
    }
   ],
   "source": [
    "# Standard imports\n",
    "import pandas as pd\n",
    "import numpy as np\n",
    "\n",
    "# import matplotlib.pyplot as plt\n",
    "# import seaborn as sns\n",
    "import talib as tl\n",
    "\n",
    "import os\n",
    "from os import environ as env\n",
    "from dotenv import load_dotenv\n",
    "from binance import Client, ThreadedWebsocketManager, ThreadedDepthCacheManager"
   ]
  },
  {
   "cell_type": "code",
   "execution_count": 3,
   "id": "accurate-diagnosis",
   "metadata": {},
   "outputs": [
    {
     "data": {
      "application/javascript": [
       "\n",
       "            setTimeout(function() {\n",
       "                var nbb_cell_id = 3;\n",
       "                var nbb_unformatted_code = \"# Install a pip package in the current Jupyter kernel\\n# import sys\\n\\n# !{sys.executable} -m pip install -U python-dotenv\";\n",
       "                var nbb_formatted_code = \"# Install a pip package in the current Jupyter kernel\\n# import sys\\n\\n# !{sys.executable} -m pip install -U python-dotenv\";\n",
       "                var nbb_cells = Jupyter.notebook.get_cells();\n",
       "                for (var i = 0; i < nbb_cells.length; ++i) {\n",
       "                    if (nbb_cells[i].input_prompt_number == nbb_cell_id) {\n",
       "                        if (nbb_cells[i].get_text() == nbb_unformatted_code) {\n",
       "                             nbb_cells[i].set_text(nbb_formatted_code);\n",
       "                        }\n",
       "                        break;\n",
       "                    }\n",
       "                }\n",
       "            }, 500);\n",
       "            "
      ],
      "text/plain": [
       "<IPython.core.display.Javascript object>"
      ]
     },
     "metadata": {},
     "output_type": "display_data"
    }
   ],
   "source": [
    "# Install a pip package in the current Jupyter kernel\n",
    "# import sys\n",
    "\n",
    "# !{sys.executable} -m pip install -U python-dotenv"
   ]
  },
  {
   "cell_type": "code",
   "execution_count": 4,
   "id": "whole-american",
   "metadata": {},
   "outputs": [
    {
     "data": {
      "application/javascript": [
       "\n",
       "            setTimeout(function() {\n",
       "                var nbb_cell_id = 4;\n",
       "                var nbb_unformatted_code = \"project_dotenv = os.path.join(os.path.abspath(\\\"\\\"), \\\".env\\\")\\nif os.path.exists(project_dotenv):\\n    load_dotenv(project_dotenv)\";\n",
       "                var nbb_formatted_code = \"project_dotenv = os.path.join(os.path.abspath(\\\"\\\"), \\\".env\\\")\\nif os.path.exists(project_dotenv):\\n    load_dotenv(project_dotenv)\";\n",
       "                var nbb_cells = Jupyter.notebook.get_cells();\n",
       "                for (var i = 0; i < nbb_cells.length; ++i) {\n",
       "                    if (nbb_cells[i].input_prompt_number == nbb_cell_id) {\n",
       "                        if (nbb_cells[i].get_text() == nbb_unformatted_code) {\n",
       "                             nbb_cells[i].set_text(nbb_formatted_code);\n",
       "                        }\n",
       "                        break;\n",
       "                    }\n",
       "                }\n",
       "            }, 500);\n",
       "            "
      ],
      "text/plain": [
       "<IPython.core.display.Javascript object>"
      ]
     },
     "metadata": {},
     "output_type": "display_data"
    }
   ],
   "source": [
    "project_dotenv = os.path.join(os.path.abspath(\"\"), \".env\")\n",
    "if os.path.exists(project_dotenv):\n",
    "    load_dotenv(project_dotenv)"
   ]
  },
  {
   "cell_type": "code",
   "execution_count": 5,
   "id": "under-router",
   "metadata": {},
   "outputs": [
    {
     "data": {
      "application/javascript": [
       "\n",
       "            setTimeout(function() {\n",
       "                var nbb_cell_id = 5;\n",
       "                var nbb_unformatted_code = \"api_key, api_secret = env.get(\\\"ENV_API_KEY\\\"), env.get(\\\"ENV_SECRET_KEY\\\")\\nclient = Client(api_key, api_secret)\";\n",
       "                var nbb_formatted_code = \"api_key, api_secret = env.get(\\\"ENV_API_KEY\\\"), env.get(\\\"ENV_SECRET_KEY\\\")\\nclient = Client(api_key, api_secret)\";\n",
       "                var nbb_cells = Jupyter.notebook.get_cells();\n",
       "                for (var i = 0; i < nbb_cells.length; ++i) {\n",
       "                    if (nbb_cells[i].input_prompt_number == nbb_cell_id) {\n",
       "                        if (nbb_cells[i].get_text() == nbb_unformatted_code) {\n",
       "                             nbb_cells[i].set_text(nbb_formatted_code);\n",
       "                        }\n",
       "                        break;\n",
       "                    }\n",
       "                }\n",
       "            }, 500);\n",
       "            "
      ],
      "text/plain": [
       "<IPython.core.display.Javascript object>"
      ]
     },
     "metadata": {},
     "output_type": "display_data"
    }
   ],
   "source": [
    "api_key, api_secret = env.get(\"ENV_API_KEY\"), env.get(\"ENV_SECRET_KEY\")\n",
    "client = Client(api_key, api_secret)"
   ]
  },
  {
   "cell_type": "code",
   "execution_count": 6,
   "id": "opposite-lodge",
   "metadata": {},
   "outputs": [
    {
     "data": {
      "application/javascript": [
       "\n",
       "            setTimeout(function() {\n",
       "                var nbb_cell_id = 6;\n",
       "                var nbb_unformatted_code = \"klines = client.get_klines(symbol=\\\"ATOMUSDT\\\", interval=Client.KLINE_INTERVAL_15MINUTE)\\n\\nshort_col_names = [\\n    \\\"open_time\\\",\\n    \\\"open\\\",\\n    \\\"high\\\",\\n    \\\"low\\\",\\n    \\\"close\\\",\\n    \\\"volume\\\",\\n    \\\"close_time\\\",\\n    \\\"qav\\\",\\n    \\\"num_trades\\\",\\n    \\\"taker_base_vol\\\",\\n    \\\"taker_quote_vol\\\",\\n    \\\"ignore\\\",\\n]\";\n",
       "                var nbb_formatted_code = \"klines = client.get_klines(symbol=\\\"ATOMUSDT\\\", interval=Client.KLINE_INTERVAL_15MINUTE)\\n\\nshort_col_names = [\\n    \\\"open_time\\\",\\n    \\\"open\\\",\\n    \\\"high\\\",\\n    \\\"low\\\",\\n    \\\"close\\\",\\n    \\\"volume\\\",\\n    \\\"close_time\\\",\\n    \\\"qav\\\",\\n    \\\"num_trades\\\",\\n    \\\"taker_base_vol\\\",\\n    \\\"taker_quote_vol\\\",\\n    \\\"ignore\\\",\\n]\";\n",
       "                var nbb_cells = Jupyter.notebook.get_cells();\n",
       "                for (var i = 0; i < nbb_cells.length; ++i) {\n",
       "                    if (nbb_cells[i].input_prompt_number == nbb_cell_id) {\n",
       "                        if (nbb_cells[i].get_text() == nbb_unformatted_code) {\n",
       "                             nbb_cells[i].set_text(nbb_formatted_code);\n",
       "                        }\n",
       "                        break;\n",
       "                    }\n",
       "                }\n",
       "            }, 500);\n",
       "            "
      ],
      "text/plain": [
       "<IPython.core.display.Javascript object>"
      ]
     },
     "metadata": {},
     "output_type": "display_data"
    }
   ],
   "source": [
    "klines = client.get_klines(symbol=\"ATOMUSDT\", interval=Client.KLINE_INTERVAL_15MINUTE)\n",
    "\n",
    "short_col_names = [\n",
    "    \"open_time\",\n",
    "    \"open\",\n",
    "    \"high\",\n",
    "    \"low\",\n",
    "    \"close\",\n",
    "    \"volume\",\n",
    "    \"close_time\",\n",
    "    \"qav\",\n",
    "    \"num_trades\",\n",
    "    \"taker_base_vol\",\n",
    "    \"taker_quote_vol\",\n",
    "    \"ignore\",\n",
    "]"
   ]
  },
  {
   "cell_type": "code",
   "execution_count": 7,
   "id": "numeric-positive",
   "metadata": {},
   "outputs": [
    {
     "data": {
      "text/html": [
       "<div>\n",
       "<style scoped>\n",
       "    .dataframe tbody tr th:only-of-type {\n",
       "        vertical-align: middle;\n",
       "    }\n",
       "\n",
       "    .dataframe tbody tr th {\n",
       "        vertical-align: top;\n",
       "    }\n",
       "\n",
       "    .dataframe thead th {\n",
       "        text-align: right;\n",
       "    }\n",
       "</style>\n",
       "<table border=\"1\" class=\"dataframe\">\n",
       "  <thead>\n",
       "    <tr style=\"text-align: right;\">\n",
       "      <th></th>\n",
       "      <th>open_time</th>\n",
       "      <th>open</th>\n",
       "      <th>high</th>\n",
       "      <th>low</th>\n",
       "      <th>close</th>\n",
       "      <th>volume</th>\n",
       "      <th>close_time</th>\n",
       "      <th>qav</th>\n",
       "      <th>num_trades</th>\n",
       "      <th>taker_base_vol</th>\n",
       "      <th>taker_quote_vol</th>\n",
       "      <th>ignore</th>\n",
       "    </tr>\n",
       "  </thead>\n",
       "  <tbody>\n",
       "    <tr>\n",
       "      <th>495</th>\n",
       "      <td>2023-04-18 20:00:00</td>\n",
       "      <td>12.44900000</td>\n",
       "      <td>12.46900000</td>\n",
       "      <td>12.41300000</td>\n",
       "      <td>12.46900000</td>\n",
       "      <td>13386.76000000</td>\n",
       "      <td>2023-04-18 20:14:59.999</td>\n",
       "      <td>166542.53569000</td>\n",
       "      <td>631</td>\n",
       "      <td>7758.90000000</td>\n",
       "      <td>96509.48904000</td>\n",
       "      <td>0</td>\n",
       "    </tr>\n",
       "    <tr>\n",
       "      <th>496</th>\n",
       "      <td>2023-04-18 20:15:00</td>\n",
       "      <td>12.46900000</td>\n",
       "      <td>12.51300000</td>\n",
       "      <td>12.45400000</td>\n",
       "      <td>12.50900000</td>\n",
       "      <td>21220.27000000</td>\n",
       "      <td>2023-04-18 20:29:59.999</td>\n",
       "      <td>264925.52123000</td>\n",
       "      <td>829</td>\n",
       "      <td>12346.53000000</td>\n",
       "      <td>154158.51502000</td>\n",
       "      <td>0</td>\n",
       "    </tr>\n",
       "    <tr>\n",
       "      <th>497</th>\n",
       "      <td>2023-04-18 20:30:00</td>\n",
       "      <td>12.50900000</td>\n",
       "      <td>12.52300000</td>\n",
       "      <td>12.48400000</td>\n",
       "      <td>12.52300000</td>\n",
       "      <td>12025.86000000</td>\n",
       "      <td>2023-04-18 20:44:59.999</td>\n",
       "      <td>150291.59372000</td>\n",
       "      <td>544</td>\n",
       "      <td>6521.10000000</td>\n",
       "      <td>81499.38387000</td>\n",
       "      <td>0</td>\n",
       "    </tr>\n",
       "    <tr>\n",
       "      <th>498</th>\n",
       "      <td>2023-04-18 20:45:00</td>\n",
       "      <td>12.52400000</td>\n",
       "      <td>12.55600000</td>\n",
       "      <td>12.51800000</td>\n",
       "      <td>12.54600000</td>\n",
       "      <td>12002.70000000</td>\n",
       "      <td>2023-04-18 20:59:59.999</td>\n",
       "      <td>150451.06450000</td>\n",
       "      <td>576</td>\n",
       "      <td>6851.67000000</td>\n",
       "      <td>85869.60959000</td>\n",
       "      <td>0</td>\n",
       "    </tr>\n",
       "    <tr>\n",
       "      <th>499</th>\n",
       "      <td>2023-04-18 21:00:00</td>\n",
       "      <td>12.54500000</td>\n",
       "      <td>12.55000000</td>\n",
       "      <td>12.53300000</td>\n",
       "      <td>12.54100000</td>\n",
       "      <td>3069.93000000</td>\n",
       "      <td>2023-04-18 21:14:59.999</td>\n",
       "      <td>38497.02004000</td>\n",
       "      <td>128</td>\n",
       "      <td>1942.36000000</td>\n",
       "      <td>24356.23417000</td>\n",
       "      <td>0</td>\n",
       "    </tr>\n",
       "  </tbody>\n",
       "</table>\n",
       "</div>"
      ],
      "text/plain": [
       "              open_time         open         high          low        close  \\\n",
       "495 2023-04-18 20:00:00  12.44900000  12.46900000  12.41300000  12.46900000   \n",
       "496 2023-04-18 20:15:00  12.46900000  12.51300000  12.45400000  12.50900000   \n",
       "497 2023-04-18 20:30:00  12.50900000  12.52300000  12.48400000  12.52300000   \n",
       "498 2023-04-18 20:45:00  12.52400000  12.55600000  12.51800000  12.54600000   \n",
       "499 2023-04-18 21:00:00  12.54500000  12.55000000  12.53300000  12.54100000   \n",
       "\n",
       "             volume              close_time              qav  num_trades  \\\n",
       "495  13386.76000000 2023-04-18 20:14:59.999  166542.53569000         631   \n",
       "496  21220.27000000 2023-04-18 20:29:59.999  264925.52123000         829   \n",
       "497  12025.86000000 2023-04-18 20:44:59.999  150291.59372000         544   \n",
       "498  12002.70000000 2023-04-18 20:59:59.999  150451.06450000         576   \n",
       "499   3069.93000000 2023-04-18 21:14:59.999   38497.02004000         128   \n",
       "\n",
       "     taker_base_vol  taker_quote_vol ignore  \n",
       "495   7758.90000000   96509.48904000      0  \n",
       "496  12346.53000000  154158.51502000      0  \n",
       "497   6521.10000000   81499.38387000      0  \n",
       "498   6851.67000000   85869.60959000      0  \n",
       "499   1942.36000000   24356.23417000      0  "
      ]
     },
     "execution_count": 7,
     "metadata": {},
     "output_type": "execute_result"
    },
    {
     "data": {
      "application/javascript": [
       "\n",
       "            setTimeout(function() {\n",
       "                var nbb_cell_id = 7;\n",
       "                var nbb_unformatted_code = \"data = pd.DataFrame(klines, columns=short_col_names)\\ndata[\\\"open_time\\\"] = pd.to_datetime(data[\\\"open_time\\\"], unit=\\\"ms\\\")\\ndata[\\\"close_time\\\"] = pd.to_datetime(data[\\\"close_time\\\"], unit=\\\"ms\\\")\\ndata.tail(5)\";\n",
       "                var nbb_formatted_code = \"data = pd.DataFrame(klines, columns=short_col_names)\\ndata[\\\"open_time\\\"] = pd.to_datetime(data[\\\"open_time\\\"], unit=\\\"ms\\\")\\ndata[\\\"close_time\\\"] = pd.to_datetime(data[\\\"close_time\\\"], unit=\\\"ms\\\")\\ndata.tail(5)\";\n",
       "                var nbb_cells = Jupyter.notebook.get_cells();\n",
       "                for (var i = 0; i < nbb_cells.length; ++i) {\n",
       "                    if (nbb_cells[i].input_prompt_number == nbb_cell_id) {\n",
       "                        if (nbb_cells[i].get_text() == nbb_unformatted_code) {\n",
       "                             nbb_cells[i].set_text(nbb_formatted_code);\n",
       "                        }\n",
       "                        break;\n",
       "                    }\n",
       "                }\n",
       "            }, 500);\n",
       "            "
      ],
      "text/plain": [
       "<IPython.core.display.Javascript object>"
      ]
     },
     "metadata": {},
     "output_type": "display_data"
    }
   ],
   "source": [
    "data = pd.DataFrame(klines, columns=short_col_names)\n",
    "data[\"open_time\"] = pd.to_datetime(data[\"open_time\"], unit=\"ms\")\n",
    "data[\"close_time\"] = pd.to_datetime(data[\"close_time\"], unit=\"ms\")\n",
    "data.tail(5)"
   ]
  },
  {
   "cell_type": "markdown",
   "id": "premium-interim",
   "metadata": {},
   "source": [
    "### Inputs"
   ]
  },
  {
   "cell_type": "code",
   "execution_count": 8,
   "id": "typical-terry",
   "metadata": {},
   "outputs": [
    {
     "data": {
      "application/javascript": [
       "\n",
       "            setTimeout(function() {\n",
       "                var nbb_cell_id = 8;\n",
       "                var nbb_unformatted_code = \"periodK: int = 14  # input.int(14, title=\\\"%K Length\\\", minval=1)\\nsmoothK: int = 2  # input.int(3, title=\\\"%K Smoothing\\\", minval=1)\\nperiodD: int = 3  # input.int(3, title=\\\"%D Smoothing\\\", minval=1)\";\n",
       "                var nbb_formatted_code = \"periodK: int = 14  # input.int(14, title=\\\"%K Length\\\", minval=1)\\nsmoothK: int = 2  # input.int(3, title=\\\"%K Smoothing\\\", minval=1)\\nperiodD: int = 3  # input.int(3, title=\\\"%D Smoothing\\\", minval=1)\";\n",
       "                var nbb_cells = Jupyter.notebook.get_cells();\n",
       "                for (var i = 0; i < nbb_cells.length; ++i) {\n",
       "                    if (nbb_cells[i].input_prompt_number == nbb_cell_id) {\n",
       "                        if (nbb_cells[i].get_text() == nbb_unformatted_code) {\n",
       "                             nbb_cells[i].set_text(nbb_formatted_code);\n",
       "                        }\n",
       "                        break;\n",
       "                    }\n",
       "                }\n",
       "            }, 500);\n",
       "            "
      ],
      "text/plain": [
       "<IPython.core.display.Javascript object>"
      ]
     },
     "metadata": {},
     "output_type": "display_data"
    }
   ],
   "source": [
    "periodK: int = 14  # input.int(14, title=\"%K Length\", minval=1)\n",
    "smoothK: int = 2  # input.int(3, title=\"%K Smoothing\", minval=1)\n",
    "periodD: int = 3  # input.int(3, title=\"%D Smoothing\", minval=1)"
   ]
  },
  {
   "cell_type": "code",
   "execution_count": 9,
   "id": "ongoing-madagascar",
   "metadata": {},
   "outputs": [
    {
     "data": {
      "application/javascript": [
       "\n",
       "            setTimeout(function() {\n",
       "                var nbb_cell_id = 9;\n",
       "                var nbb_unformatted_code = \"k, d = tl.STOCH(\\n    data[\\\"high\\\"],\\n    data[\\\"low\\\"],\\n    data[\\\"close\\\"],\\n    periodK,\\n    smoothK,\\n    0,\\n    periodD,\\n    0,\\n)\";\n",
       "                var nbb_formatted_code = \"k, d = tl.STOCH(\\n    data[\\\"high\\\"],\\n    data[\\\"low\\\"],\\n    data[\\\"close\\\"],\\n    periodK,\\n    smoothK,\\n    0,\\n    periodD,\\n    0,\\n)\";\n",
       "                var nbb_cells = Jupyter.notebook.get_cells();\n",
       "                for (var i = 0; i < nbb_cells.length; ++i) {\n",
       "                    if (nbb_cells[i].input_prompt_number == nbb_cell_id) {\n",
       "                        if (nbb_cells[i].get_text() == nbb_unformatted_code) {\n",
       "                             nbb_cells[i].set_text(nbb_formatted_code);\n",
       "                        }\n",
       "                        break;\n",
       "                    }\n",
       "                }\n",
       "            }, 500);\n",
       "            "
      ],
      "text/plain": [
       "<IPython.core.display.Javascript object>"
      ]
     },
     "metadata": {},
     "output_type": "display_data"
    }
   ],
   "source": [
    "k, d = tl.STOCH(\n",
    "    data[\"high\"],\n",
    "    data[\"low\"],\n",
    "    data[\"close\"],\n",
    "    periodK,\n",
    "    smoothK,\n",
    "    0,\n",
    "    periodD,\n",
    "    0,\n",
    ")"
   ]
  },
  {
   "cell_type": "code",
   "execution_count": 11,
   "id": "limited-latest",
   "metadata": {},
   "outputs": [
    {
     "data": {
      "text/html": [
       "<div>\n",
       "<style scoped>\n",
       "    .dataframe tbody tr th:only-of-type {\n",
       "        vertical-align: middle;\n",
       "    }\n",
       "\n",
       "    .dataframe tbody tr th {\n",
       "        vertical-align: top;\n",
       "    }\n",
       "\n",
       "    .dataframe thead th {\n",
       "        text-align: right;\n",
       "    }\n",
       "</style>\n",
       "<table border=\"1\" class=\"dataframe\">\n",
       "  <thead>\n",
       "    <tr style=\"text-align: right;\">\n",
       "      <th></th>\n",
       "      <th>open_time</th>\n",
       "      <th>%K</th>\n",
       "      <th>%D</th>\n",
       "      <th>high</th>\n",
       "      <th>low</th>\n",
       "      <th>close</th>\n",
       "    </tr>\n",
       "  </thead>\n",
       "  <tbody>\n",
       "    <tr>\n",
       "      <th>480</th>\n",
       "      <td>2023-04-18 16:15:00</td>\n",
       "      <td>36.923077</td>\n",
       "      <td>29.369547</td>\n",
       "      <td>12.60900000</td>\n",
       "      <td>12.58200000</td>\n",
       "      <td>12.58600000</td>\n",
       "    </tr>\n",
       "    <tr>\n",
       "      <th>481</th>\n",
       "      <td>2023-04-18 16:30:00</td>\n",
       "      <td>26.465768</td>\n",
       "      <td>31.756658</td>\n",
       "      <td>12.59000000</td>\n",
       "      <td>12.54500000</td>\n",
       "      <td>12.56700000</td>\n",
       "    </tr>\n",
       "    <tr>\n",
       "      <th>482</th>\n",
       "      <td>2023-04-18 16:45:00</td>\n",
       "      <td>22.164948</td>\n",
       "      <td>28.517931</td>\n",
       "      <td>12.59000000</td>\n",
       "      <td>12.55000000</td>\n",
       "      <td>12.56900000</td>\n",
       "    </tr>\n",
       "    <tr>\n",
       "      <th>483</th>\n",
       "      <td>2023-04-18 17:00:00</td>\n",
       "      <td>22.680412</td>\n",
       "      <td>23.770376</td>\n",
       "      <td>12.59300000</td>\n",
       "      <td>12.55900000</td>\n",
       "      <td>12.56900000</td>\n",
       "    </tr>\n",
       "    <tr>\n",
       "      <th>484</th>\n",
       "      <td>2023-04-18 17:15:00</td>\n",
       "      <td>13.708627</td>\n",
       "      <td>19.517996</td>\n",
       "      <td>12.57800000</td>\n",
       "      <td>12.51000000</td>\n",
       "      <td>12.51900000</td>\n",
       "    </tr>\n",
       "    <tr>\n",
       "      <th>485</th>\n",
       "      <td>2023-04-18 17:30:00</td>\n",
       "      <td>4.783880</td>\n",
       "      <td>13.724307</td>\n",
       "      <td>12.52900000</td>\n",
       "      <td>12.44000000</td>\n",
       "      <td>12.45000000</td>\n",
       "    </tr>\n",
       "    <tr>\n",
       "      <th>486</th>\n",
       "      <td>2023-04-18 17:45:00</td>\n",
       "      <td>4.831816</td>\n",
       "      <td>7.774774</td>\n",
       "      <td>12.45600000</td>\n",
       "      <td>12.37200000</td>\n",
       "      <td>12.38500000</td>\n",
       "    </tr>\n",
       "    <tr>\n",
       "      <th>487</th>\n",
       "      <td>2023-04-18 18:00:00</td>\n",
       "      <td>11.066876</td>\n",
       "      <td>6.894191</td>\n",
       "      <td>12.41300000</td>\n",
       "      <td>12.35200000</td>\n",
       "      <td>12.40200000</td>\n",
       "    </tr>\n",
       "    <tr>\n",
       "      <th>488</th>\n",
       "      <td>2023-04-18 18:15:00</td>\n",
       "      <td>34.775087</td>\n",
       "      <td>16.891259</td>\n",
       "      <td>12.50400000</td>\n",
       "      <td>12.40300000</td>\n",
       "      <td>12.50300000</td>\n",
       "    </tr>\n",
       "    <tr>\n",
       "      <th>489</th>\n",
       "      <td>2023-04-18 18:30:00</td>\n",
       "      <td>47.914451</td>\n",
       "      <td>31.252138</td>\n",
       "      <td>12.51400000</td>\n",
       "      <td>12.45000000</td>\n",
       "      <td>12.46400000</td>\n",
       "    </tr>\n",
       "    <tr>\n",
       "      <th>490</th>\n",
       "      <td>2023-04-18 18:45:00</td>\n",
       "      <td>41.634241</td>\n",
       "      <td>41.441259</td>\n",
       "      <td>12.46900000</td>\n",
       "      <td>12.41800000</td>\n",
       "      <td>12.45400000</td>\n",
       "    </tr>\n",
       "    <tr>\n",
       "      <th>491</th>\n",
       "      <td>2023-04-18 19:00:00</td>\n",
       "      <td>36.770428</td>\n",
       "      <td>42.106373</td>\n",
       "      <td>12.48100000</td>\n",
       "      <td>12.42900000</td>\n",
       "      <td>12.43900000</td>\n",
       "    </tr>\n",
       "    <tr>\n",
       "      <th>492</th>\n",
       "      <td>2023-04-18 19:15:00</td>\n",
       "      <td>32.101167</td>\n",
       "      <td>36.835279</td>\n",
       "      <td>12.46400000</td>\n",
       "      <td>12.41300000</td>\n",
       "      <td>12.43000000</td>\n",
       "    </tr>\n",
       "    <tr>\n",
       "      <th>493</th>\n",
       "      <td>2023-04-18 19:30:00</td>\n",
       "      <td>36.575875</td>\n",
       "      <td>35.149157</td>\n",
       "      <td>12.46700000</td>\n",
       "      <td>12.41600000</td>\n",
       "      <td>12.46200000</td>\n",
       "    </tr>\n",
       "    <tr>\n",
       "      <th>494</th>\n",
       "      <td>2023-04-18 19:45:00</td>\n",
       "      <td>41.940197</td>\n",
       "      <td>36.872413</td>\n",
       "      <td>12.46100000</td>\n",
       "      <td>12.42600000</td>\n",
       "      <td>12.45100000</td>\n",
       "    </tr>\n",
       "    <tr>\n",
       "      <th>495</th>\n",
       "      <td>2023-04-18 20:00:00</td>\n",
       "      <td>44.813278</td>\n",
       "      <td>41.109784</td>\n",
       "      <td>12.46900000</td>\n",
       "      <td>12.41300000</td>\n",
       "      <td>12.46900000</td>\n",
       "    </tr>\n",
       "    <tr>\n",
       "      <th>496</th>\n",
       "      <td>2023-04-18 20:15:00</td>\n",
       "      <td>56.846473</td>\n",
       "      <td>47.866649</td>\n",
       "      <td>12.51300000</td>\n",
       "      <td>12.45400000</td>\n",
       "      <td>12.50900000</td>\n",
       "    </tr>\n",
       "    <tr>\n",
       "      <th>497</th>\n",
       "      <td>2023-04-18 20:30:00</td>\n",
       "      <td>70.404473</td>\n",
       "      <td>57.354741</td>\n",
       "      <td>12.52300000</td>\n",
       "      <td>12.48400000</td>\n",
       "      <td>12.52300000</td>\n",
       "    </tr>\n",
       "    <tr>\n",
       "      <th>498</th>\n",
       "      <td>2023-04-18 20:45:00</td>\n",
       "      <td>85.380878</td>\n",
       "      <td>70.877275</td>\n",
       "      <td>12.55600000</td>\n",
       "      <td>12.51800000</td>\n",
       "      <td>12.54600000</td>\n",
       "    </tr>\n",
       "    <tr>\n",
       "      <th>499</th>\n",
       "      <td>2023-04-18 21:00:00</td>\n",
       "      <td>93.872549</td>\n",
       "      <td>83.219300</td>\n",
       "      <td>12.55000000</td>\n",
       "      <td>12.53300000</td>\n",
       "      <td>12.54100000</td>\n",
       "    </tr>\n",
       "  </tbody>\n",
       "</table>\n",
       "</div>"
      ],
      "text/plain": [
       "              open_time         %K         %D         high          low  \\\n",
       "480 2023-04-18 16:15:00  36.923077  29.369547  12.60900000  12.58200000   \n",
       "481 2023-04-18 16:30:00  26.465768  31.756658  12.59000000  12.54500000   \n",
       "482 2023-04-18 16:45:00  22.164948  28.517931  12.59000000  12.55000000   \n",
       "483 2023-04-18 17:00:00  22.680412  23.770376  12.59300000  12.55900000   \n",
       "484 2023-04-18 17:15:00  13.708627  19.517996  12.57800000  12.51000000   \n",
       "485 2023-04-18 17:30:00   4.783880  13.724307  12.52900000  12.44000000   \n",
       "486 2023-04-18 17:45:00   4.831816   7.774774  12.45600000  12.37200000   \n",
       "487 2023-04-18 18:00:00  11.066876   6.894191  12.41300000  12.35200000   \n",
       "488 2023-04-18 18:15:00  34.775087  16.891259  12.50400000  12.40300000   \n",
       "489 2023-04-18 18:30:00  47.914451  31.252138  12.51400000  12.45000000   \n",
       "490 2023-04-18 18:45:00  41.634241  41.441259  12.46900000  12.41800000   \n",
       "491 2023-04-18 19:00:00  36.770428  42.106373  12.48100000  12.42900000   \n",
       "492 2023-04-18 19:15:00  32.101167  36.835279  12.46400000  12.41300000   \n",
       "493 2023-04-18 19:30:00  36.575875  35.149157  12.46700000  12.41600000   \n",
       "494 2023-04-18 19:45:00  41.940197  36.872413  12.46100000  12.42600000   \n",
       "495 2023-04-18 20:00:00  44.813278  41.109784  12.46900000  12.41300000   \n",
       "496 2023-04-18 20:15:00  56.846473  47.866649  12.51300000  12.45400000   \n",
       "497 2023-04-18 20:30:00  70.404473  57.354741  12.52300000  12.48400000   \n",
       "498 2023-04-18 20:45:00  85.380878  70.877275  12.55600000  12.51800000   \n",
       "499 2023-04-18 21:00:00  93.872549  83.219300  12.55000000  12.53300000   \n",
       "\n",
       "           close  \n",
       "480  12.58600000  \n",
       "481  12.56700000  \n",
       "482  12.56900000  \n",
       "483  12.56900000  \n",
       "484  12.51900000  \n",
       "485  12.45000000  \n",
       "486  12.38500000  \n",
       "487  12.40200000  \n",
       "488  12.50300000  \n",
       "489  12.46400000  \n",
       "490  12.45400000  \n",
       "491  12.43900000  \n",
       "492  12.43000000  \n",
       "493  12.46200000  \n",
       "494  12.45100000  \n",
       "495  12.46900000  \n",
       "496  12.50900000  \n",
       "497  12.52300000  \n",
       "498  12.54600000  \n",
       "499  12.54100000  "
      ]
     },
     "execution_count": 11,
     "metadata": {},
     "output_type": "execute_result"
    },
    {
     "data": {
      "application/javascript": [
       "\n",
       "            setTimeout(function() {\n",
       "                var nbb_cell_id = 11;\n",
       "                var nbb_unformatted_code = \"res = pd.DataFrame(\\n    {\\n        \\\"open_time\\\": data[\\\"open_time\\\"],\\n        \\\"%K\\\": k,\\n        \\\"%D\\\": d,\\n        \\\"high\\\": data[\\\"high\\\"],\\n        \\\"low\\\": data[\\\"low\\\"],\\n        \\\"close\\\": data[\\\"close\\\"],\\n    }\\n)\\nres.tail(20)\";\n",
       "                var nbb_formatted_code = \"res = pd.DataFrame(\\n    {\\n        \\\"open_time\\\": data[\\\"open_time\\\"],\\n        \\\"%K\\\": k,\\n        \\\"%D\\\": d,\\n        \\\"high\\\": data[\\\"high\\\"],\\n        \\\"low\\\": data[\\\"low\\\"],\\n        \\\"close\\\": data[\\\"close\\\"],\\n    }\\n)\\nres.tail(20)\";\n",
       "                var nbb_cells = Jupyter.notebook.get_cells();\n",
       "                for (var i = 0; i < nbb_cells.length; ++i) {\n",
       "                    if (nbb_cells[i].input_prompt_number == nbb_cell_id) {\n",
       "                        if (nbb_cells[i].get_text() == nbb_unformatted_code) {\n",
       "                             nbb_cells[i].set_text(nbb_formatted_code);\n",
       "                        }\n",
       "                        break;\n",
       "                    }\n",
       "                }\n",
       "            }, 500);\n",
       "            "
      ],
      "text/plain": [
       "<IPython.core.display.Javascript object>"
      ]
     },
     "metadata": {},
     "output_type": "display_data"
    }
   ],
   "source": [
    "res = pd.DataFrame(\n",
    "    {\n",
    "        \"open_time\": data[\"open_time\"],\n",
    "        \"%K\": k,\n",
    "        \"%D\": d,\n",
    "        \"high\": data[\"high\"],\n",
    "        \"low\": data[\"low\"],\n",
    "        \"close\": data[\"close\"],\n",
    "    }\n",
    ")\n",
    "res.tail(20)"
   ]
  },
  {
   "cell_type": "code",
   "execution_count": null,
   "id": "blocked-village",
   "metadata": {},
   "outputs": [],
   "source": []
  }
 ],
 "metadata": {
  "kernelspec": {
   "display_name": "venv",
   "language": "python",
   "name": "venv"
  },
  "language_info": {
   "codemirror_mode": {
    "name": "ipython",
    "version": 3
   },
   "file_extension": ".py",
   "mimetype": "text/x-python",
   "name": "python",
   "nbconvert_exporter": "python",
   "pygments_lexer": "ipython3",
   "version": "3.6.13"
  }
 },
 "nbformat": 4,
 "nbformat_minor": 5
}
